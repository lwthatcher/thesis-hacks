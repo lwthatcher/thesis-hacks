{
 "cells": [
  {
   "cell_type": "code",
   "execution_count": 24,
   "metadata": {},
   "outputs": [
    {
     "name": "stdout",
     "output_type": "stream",
     "text": [
      "(61637, 14) (4506, 6)\n",
      "12327 901\n",
      "12327 (6, 5) 901 (6, 5)\n"
     ]
    }
   ],
   "source": [
    "import numpy as np\n",
    "\n",
    "\n",
    "FILE = 'data/orange-true.npy'\n",
    "F2 = 'data/pills-s0.npy'\n",
    "X = np.load(FILE)\n",
    "X2 = np.load(F2)\n",
    "print(X.shape, X2.shape)\n",
    "\n",
    "b1 = int(X.shape[0] / 5)\n",
    "b2 = int(X2.shape[0] / 5)\n",
    "print(b1,b2)\n",
    "\n",
    "x1 = np.array_split(X, b1)\n",
    "x2 = np.array_split(X2, b2)\n",
    "\n",
    "print(len(x1), (len(x1[0]), len(x1[-1])), len(x2), (len(x2[0]), len(x2[-1])))"
   ]
  },
  {
   "cell_type": "code",
   "execution_count": 23,
   "metadata": {},
   "outputs": [
    {
     "name": "stdout",
     "output_type": "stream",
     "text": [
      "(61637, 14) (4506, 6)\n",
      "N=5 12327 901\n",
      "original diffs: 12325 900\n",
      "padding to shape: (6, 14)\n",
      "padded: 12325\n",
      "padding to shape: (6, 6)\n",
      "padded: 900\n",
      "padded means: (6, 14) (6, 6)\n",
      "trimmed means: (5, 14) (5, 6)\n"
     ]
    }
   ],
   "source": [
    "import numpy as np\n",
    "\n",
    "\n",
    "def count_diffs(x):\n",
    "    x0 = x[0].shape\n",
    "    diffs = [xi for xi in x if xi.shape != x0]\n",
    "    return len(diffs)\n",
    "\n",
    "\n",
    "def pad_ends(_x):\n",
    "    x = np.copy(_x)\n",
    "    x0 = x[0].shape\n",
    "    print('padding to shape:', x0)\n",
    "    j = 0\n",
    "    for i in range(len(x)):\n",
    "        if x[i].shape != x0:\n",
    "            p = np.subtract(x0, x[i].shape)\n",
    "            x[i] = np.pad(x[i], ((0,p[0]), (0,p[1])), 'mean')\n",
    "            j += 1\n",
    "    print('padded:', j)\n",
    "    return x\n",
    "\n",
    "\n",
    "def trim_ends(_x, N):\n",
    "    x = np.copy(_x)\n",
    "    x0 = x[0].shape\n",
    "    for i in range(len(x)):\n",
    "        x[i] = x[i][:N]\n",
    "    return x\n",
    "\n",
    "\n",
    "FILE = 'data/orange-true.npy'\n",
    "F2 = 'data/pills-s0.npy'\n",
    "X = np.load(FILE)\n",
    "X2 = np.load(F2)\n",
    "print(X.shape, X2.shape)\n",
    "N = 5\n",
    "\n",
    "b1 = int(X.shape[0] / N)\n",
    "b2 = int(X2.shape[0] / N)\n",
    "print('N={}'.format(N), b1,b2)\n",
    "\n",
    "x1 = np.array_split(X, b1)\n",
    "x2 = np.array_split(X2, b2)\n",
    "\n",
    "print('original diffs:', count_diffs(x1), count_diffs(x2))\n",
    "\n",
    "p1,p2 = pad_ends(x1), pad_ends(x2)\n",
    "t1,t2 = trim_ends(x1,N), trim_ends(x2,N)\n",
    "\n",
    "m1 = np.mean(p1, axis=0)\n",
    "m2 = np.mean(p2, axis=0)\n",
    "print('padded means:', m1.shape, m2.shape)\n",
    "\n",
    "tm1, tm2 = np.mean(t1, axis=0), np.mean(t2, axis=0)\n",
    "print('trimmed means:', tm1.shape, tm2.shape)"
   ]
  },
  {
   "cell_type": "code",
   "execution_count": null,
   "metadata": {
    "collapsed": true
   },
   "outputs": [],
   "source": []
  }
 ],
 "metadata": {
  "kernelspec": {
   "display_name": "Python 3",
   "language": "python",
   "name": "python3"
  },
  "language_info": {
   "codemirror_mode": {
    "name": "ipython",
    "version": 3
   },
   "file_extension": ".py",
   "mimetype": "text/x-python",
   "name": "python",
   "nbconvert_exporter": "python",
   "pygments_lexer": "ipython3",
   "version": "3.5.2"
  }
 },
 "nbformat": 4,
 "nbformat_minor": 2
}
