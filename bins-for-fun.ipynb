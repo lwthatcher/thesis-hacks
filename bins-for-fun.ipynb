{
 "cells": [
  {
   "cell_type": "code",
   "execution_count": 4,
   "metadata": {},
   "outputs": [
    {
     "name": "stdout",
     "output_type": "stream",
     "text": [
      "(61637, 14) (4506, 6)\n",
      "12327 901\n",
      "12327 (6, 5) 901 (6, 5)\n"
     ]
    }
   ],
   "source": [
    "import numpy as np\n",
    "\n",
    "\n",
    "FILE = 'data/orange-true.npy'\n",
    "F2 = 'data/pills-s0.npy'\n",
    "X = np.load(FILE)\n",
    "X2 = np.load(F2)\n",
    "print(X.shape, X2.shape)\n",
    "\n",
    "b1 = int(X.shape[0] / 5)\n",
    "b2 = int(X2.shape[0] / 5)\n",
    "print(b1,b2)\n",
    "\n",
    "x1 = np.array_split(X, b1)\n",
    "x2 = np.array_split(X2, b2)\n",
    "\n",
    "print(len(x1), (len(x1[0]), len(x1[-1])), len(x2), (len(x2[0]), len(x2[-1])))"
   ]
  },
  {
   "cell_type": "code",
   "execution_count": null,
   "metadata": {
    "collapsed": true
   },
   "outputs": [],
   "source": []
  }
 ],
 "metadata": {
  "kernelspec": {
   "display_name": "Python 3",
   "language": "python",
   "name": "python3"
  },
  "language_info": {
   "codemirror_mode": {
    "name": "ipython",
    "version": 3
   },
   "file_extension": ".py",
   "mimetype": "text/x-python",
   "name": "python",
   "nbconvert_exporter": "python",
   "pygments_lexer": "ipython3",
   "version": "3.5.2"
  }
 },
 "nbformat": 4,
 "nbformat_minor": 2
}
