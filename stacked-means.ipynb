{
 "cells": [
  {
   "cell_type": "code",
   "execution_count": 7,
   "metadata": {},
   "outputs": [],
   "source": [
    "%matplotlib tk\n",
    "# --------------------------------------------------\n",
    "#\n",
    "# Original, Average, Difference\n",
    "#\n",
    "# --------------------------------------------------\n",
    "\n",
    "import numpy as np\n",
    "import matplotlib.pyplot as plt\n",
    "\n",
    "\n",
    "FILE = 'data/pills-s0.npy'\n",
    "X = np.load(FILE)\n",
    "\n",
    "\n",
    "N = 5\n",
    "\n",
    "# average\n",
    "X0 = np.convolve(X[:,0], np.ones((N,))/N, mode='same')\n",
    "X1 = np.convolve(X[:,1], np.ones((N,))/N, mode='same')\n",
    "X2 = np.convolve(X[:,2], np.ones((N,))/N, mode='same')\n",
    "\n",
    "fig = plt.figure()\n",
    "ax1 = fig.add_subplot(311)\n",
    "ax1.plot(X[:,:3])\n",
    "\n",
    "ax2 = fig.add_subplot(312)\n",
    "ax2.plot(X0)\n",
    "ax2.plot(X1)\n",
    "ax2.plot(X2)\n",
    "\n",
    "d0 = X[:,0] - X0\n",
    "d1 = X[:,1] - X1\n",
    "d2 = X[:,2] - X2\n",
    "ax3 = fig.add_subplot(313)\n",
    "ax3.plot(d0)\n",
    "ax3.plot(d1)\n",
    "ax3.plot(d2)\n",
    "\n",
    "plt.show()"
   ]
  },
  {
   "cell_type": "code",
   "execution_count": 20,
   "metadata": {},
   "outputs": [
    {
     "name": "stdout",
     "output_type": "stream",
     "text": [
      "(4506, 6) (901, 6)\n",
      "(4506, 6) (901, 6) (180, 6)\n",
      "saved file\n"
     ]
    }
   ],
   "source": [
    "%matplotlib tk\n",
    "# --------------------------------------------------\n",
    "#\n",
    "# 2 stacks of averages\n",
    "#\n",
    "# --------------------------------------------------\n",
    "\n",
    "import numpy as np\n",
    "import matplotlib.pyplot as plt\n",
    "\n",
    "\n",
    "FILE = 'data/pills-s0.npy'\n",
    "X = np.load(FILE)\n",
    "dims = X.shape[1]\n",
    "\n",
    "N = 5\n",
    "\n",
    "# average\n",
    "_X = [np.convolve(X[:,i], np.ones((N,))/N, mode='same') for i in range(dims)]\n",
    "X1 = np.stack(_X, axis=-1)\n",
    "X1 = X1[1::5]\n",
    "print(X.shape, X1.shape)\n",
    "\n",
    "fig = plt.figure()\n",
    "ax1 = fig.add_subplot(321)\n",
    "ax1.plot(X,alpha=0.5)\n",
    "ax1.set_title('original')\n",
    "\n",
    "ax2 = fig.add_subplot(323)\n",
    "ax2.plot(X1,alpha=0.5)\n",
    "ax2.set_title('N = {}'.format(N))\n",
    "\n",
    "d1 = X[1::5] - X1\n",
    "ax3 = fig.add_subplot(325,sharex=ax2)\n",
    "ax3.plot(d1,alpha=0.5)\n",
    "ax3.set_title('difference')\n",
    "\n",
    "\n",
    "_X1 = [np.convolve(X1[:,i], np.ones((N,))/N, mode='same') for i in range(dims)]\n",
    "X2 = np.stack(_X1, axis=-1)\n",
    "X2 = X2[1::5]\n",
    "print(X.shape, X1.shape, X2.shape)\n",
    "\n",
    "ax4 = fig.add_subplot(324)\n",
    "ax4.plot(X2,alpha=0.5)\n",
    "ax4.set_title('N = {} (x2)'.format(N))\n",
    "\n",
    "d2 = X1[1::5] - X2\n",
    "ax5 = fig.add_subplot(326,sharex=ax4)\n",
    "ax5.plot(d2,alpha=0.5)\n",
    "ax5.set_title('difference')\n",
    "\n",
    "plt.show()"
   ]
  },
  {
   "cell_type": "code",
   "execution_count": null,
   "metadata": {
    "collapsed": true
   },
   "outputs": [],
   "source": []
  }
 ],
 "metadata": {
  "kernelspec": {
   "display_name": "Python 3",
   "language": "python",
   "name": "python3"
  },
  "language_info": {
   "codemirror_mode": {
    "name": "ipython",
    "version": 3
   },
   "file_extension": ".py",
   "mimetype": "text/x-python",
   "name": "python",
   "nbconvert_exporter": "python",
   "pygments_lexer": "ipython3",
   "version": "3.5.2"
  }
 },
 "nbformat": 4,
 "nbformat_minor": 2
}
