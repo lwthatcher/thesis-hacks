{
 "cells": [
  {
   "cell_type": "code",
   "execution_count": 3,
   "metadata": {},
   "outputs": [
    {
     "name": "stdout",
     "output_type": "stream",
     "text": [
      "((61637,), (61637,))\n"
     ]
    }
   ],
   "source": [
    "import numpy as np\n",
    "\n",
    "INFERRED_LABELS_FILE = 'all_blue-orange.npy'\n",
    "TRUE_LABELS_FILE = 'orange-true.npy'\n",
    "\n",
    "inf = np.load(INFERRED_LABELS_FILE)[0,:,0]\n",
    "lbls = np.load(TRUE_LABELS_FILE)[:,-1]\n",
    "\n",
    "print(inf.shape, lbls.shape)"
   ]
  },
  {
   "cell_type": "code",
   "execution_count": null,
   "metadata": {
    "collapsed": true
   },
   "outputs": [],
   "source": []
  }
 ],
 "metadata": {
  "kernelspec": {
   "display_name": "Python 3",
   "language": "python",
   "name": "python3"
  },
  "language_info": {
   "codemirror_mode": {
    "name": "ipython",
    "version": 2
   },
   "file_extension": ".py",
   "mimetype": "text/x-python",
   "name": "python",
   "nbconvert_exporter": "python",
   "pygments_lexer": "ipython2",
   "version": "2.7.12"
  }
 },
 "nbformat": 4,
 "nbformat_minor": 2
}
