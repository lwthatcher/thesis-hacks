{
 "cells": [
  {
   "cell_type": "code",
   "execution_count": 5,
   "metadata": {},
   "outputs": [
    {
     "name": "stdout",
     "output_type": "stream",
     "text": [
      "((61637,), (61637,))\n",
      "[   18  8500 11269 11661 42252 42260 48949 49060 55976 55977]\n",
      "[ 1053  1967  5796  6228 11144 11739 16865 17497 31395 32158 42085 42372\n",
      " 48842 49567 55951 56626]\n",
      "[ 0.  0.  0.  0.  1.  1.  1.  1.  1.  1.]\n"
     ]
    }
   ],
   "source": [
    "import numpy as np\n",
    "\n",
    "INFERRED_LABELS_FILE = 'all_blue-orange.npy'\n",
    "TRUE_LABELS_FILE = 'orange-true.npy'\n",
    "\n",
    "inf = np.load(INFERRED_LABELS_FILE)[0,:,0]\n",
    "lbls = np.load(TRUE_LABELS_FILE)[:,-1]\n",
    "\n",
    "print(inf.shape, lbls.shape)\n",
    "\n",
    "def boundaries(v):\n",
    "    return np.where(v[:-1] != v[1:])[0]\n",
    "\n",
    "print(boundaries(inf))\n",
    "print(boundaries(lbls))\n",
    "\n",
    "\n",
    "print(lbls[1050:1060])\n"
   ]
  },
  {
   "cell_type": "code",
   "execution_count": null,
   "metadata": {
    "collapsed": true
   },
   "outputs": [],
   "source": []
  }
 ],
 "metadata": {
  "kernelspec": {
   "display_name": "Python 3",
   "language": "python",
   "name": "python3"
  },
  "language_info": {
   "codemirror_mode": {
    "name": "ipython",
    "version": 2
   },
   "file_extension": ".py",
   "mimetype": "text/x-python",
   "name": "python",
   "nbconvert_exporter": "python",
   "pygments_lexer": "ipython2",
   "version": "2.7.12"
  }
 },
 "nbformat": 4,
 "nbformat_minor": 2
}
