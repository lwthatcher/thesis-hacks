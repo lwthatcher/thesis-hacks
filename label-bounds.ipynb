{
 "cells": [
  {
   "cell_type": "code",
   "execution_count": 16,
   "metadata": {},
   "outputs": [
    {
     "name": "stdout",
     "output_type": "stream",
     "text": [
      "((61637,), (61637,))\n",
      "('inf', [(0, 19, 0), (19, 8501, 1), (8501, 11270, 0), (11270, 11662, 1), (11662, 42253, 0), (42253, 42261, 1), (42261, 48950, 0), (48950, 49061, 2), (49061, 55977, 0), (55977, 55978, 2), (55978, 61636, 1)])\n",
      "()\n",
      "('lbls', [(0, 1054, 0.0), (1054, 1968, 1.0), (1968, 5797, 0.0), (5797, 6229, 2.0), (6229, 11145, 0.0), (11145, 11740, 2.0), (11740, 16866, 0.0), (16866, 17498, 1.0), (17498, 31396, 0.0), (31396, 32159, 1.0), (32159, 42086, 0.0), (42086, 42373, 2.0), (42373, 48843, 0.0), (48843, 49568, 2.0), (49568, 55952, 0.0), (55952, 56627, 1.0), (56627, 61636, 0.0)])\n"
     ]
    }
   ],
   "source": [
    "import numpy as np\n",
    "import matplotlib.pyplot as plt\n",
    "\n",
    "INFERRED_LABELS_FILE = 'all_blue-orange.npy'\n",
    "TRUE_LABELS_FILE = 'orange-true.npy'\n",
    "\n",
    "inf = np.load(INFERRED_LABELS_FILE)[0,:,0]\n",
    "X = np.load(TRUE_LABELS_FILE)\n",
    "lbls = X[:,-1]\n",
    "\n",
    "def boundaries(v):\n",
    "    bounds = list(np.where(v[:-1] != v[1:])[0] + 1)\n",
    "    bounds.insert(0,0)\n",
    "    bounds.append(len(v)-1)\n",
    "    result = []\n",
    "    for i in range(len(bounds)-1):\n",
    "        result.append((bounds[i], bounds[i+1], v[bounds[i]]))\n",
    "    return result\n",
    "\n",
    "\n",
    "plt.plot(X[:,:-1])\n",
    "\n"
   ]
  },
  {
   "cell_type": "code",
   "execution_count": null,
   "metadata": {
    "collapsed": true
   },
   "outputs": [],
   "source": []
  }
 ],
 "metadata": {
  "kernelspec": {
   "display_name": "Python 3",
   "language": "python",
   "name": "python3"
  },
  "language_info": {
   "codemirror_mode": {
    "name": "ipython",
    "version": 2
   },
   "file_extension": ".py",
   "mimetype": "text/x-python",
   "name": "python",
   "nbconvert_exporter": "python",
   "pygments_lexer": "ipython2",
   "version": "2.7.12"
  }
 },
 "nbformat": 4,
 "nbformat_minor": 2
}
