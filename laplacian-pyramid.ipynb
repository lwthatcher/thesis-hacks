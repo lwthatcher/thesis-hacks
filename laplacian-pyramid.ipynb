{
 "cells": [
  {
   "cell_type": "code",
   "execution_count": 1,
   "metadata": {},
   "outputs": [
    {
     "name": "stdout",
     "output_type": "stream",
     "text": [
      "p = 2\n",
      "(4506, 6) (4506, 6)\n",
      "p = 2\n",
      "(2253, 6) (2253, 6)\n",
      "p = 2\n",
      "(1127, 6) (1127, 6)\n",
      "p = 2\n",
      "(564, 6) (564, 6)\n",
      "axes: (3, 4)\n"
     ]
    }
   ],
   "source": [
    "%matplotlib tk\n",
    "# --------------------------------------------------\n",
    "#\n",
    "# Laplacian Pyramid\n",
    "#\n",
    "# --------------------------------------------------\n",
    "\n",
    "import numpy as np\n",
    "import matplotlib.pyplot as plt\n",
    "\n",
    "\n",
    "def blur(x, n):\n",
    "    if n % 2 == 0:\n",
    "        raise ValueError('n must be odd, given: {}'.format(n))\n",
    "    p = int((n-1) / 2)\n",
    "    print('p = {}'.format(p))\n",
    "    dims = x.shape[1]\n",
    "    _x = np.pad(x,((p,p),(0,0)), mode='edge')\n",
    "    _x = [np.convolve(_x[:,i], np.ones((n,))/n, mode='valid') for i in range(dims)]\n",
    "    return np.stack(_x, axis=-1)\n",
    "\n",
    "\n",
    "# params\n",
    "DATASET = 'pills-s0'\n",
    "N = 5\n",
    "S = 2\n",
    "tiers = 4\n",
    "\n",
    "# file and data\n",
    "FILE = 'data/' + DATASET + '.npy'\n",
    "X0 = np.load(FILE)\n",
    "\n",
    "\n",
    "# Create Pyramids\n",
    "X, B, D = [X0], [], []\n",
    "for i in range(tiers):\n",
    "    xi = X[i]\n",
    "    # blur image\n",
    "    x_blur = blur(xi,N)\n",
    "    print(xi.shape, x_blur.shape)\n",
    "    B.append(x_blur)\n",
    "    # take difference\n",
    "    diff = xi - x_blur\n",
    "    D.append(diff)\n",
    "    # down-sample\n",
    "    x_next = x_blur[::S]\n",
    "    X.append(x_next)\n",
    "\n",
    "\n",
    "    \n",
    "fig, axes = plt.subplots(nrows=3, ncols=tiers, sharey='col', squeeze=False)\n",
    "print('axes:', axes.shape)\n",
    "# Plot\n",
    "for i, ax in enumerate(axes.T):\n",
    "    # original\n",
    "    ax[0].plot(X[i])\n",
    "    # blurred\n",
    "    ax[1].plot(B[i])\n",
    "    # difference\n",
    "    ax[2].plot(D[i])\n",
    "\n",
    "cols = ['original'] + ['x1/{}'.format(S ** col) for col in range(1, tiers)]\n",
    "rows = ['original', 'blurred', 'difference']\n",
    "for ax, col in zip(axes[0], cols):\n",
    "    ax.set_title(col)\n",
    "\n",
    "for ax, row in zip(axes[:,0], rows):\n",
    "    ax.set_ylabel(row, rotation=0, size='large')    \n",
    "\n",
    "\n",
    "# fig.tight_layout()\n",
    "plt.show()"
   ]
  },
  {
   "cell_type": "code",
   "execution_count": null,
   "metadata": {
    "collapsed": true
   },
   "outputs": [],
   "source": []
  }
 ],
 "metadata": {
  "kernelspec": {
   "display_name": "Python 3",
   "language": "python",
   "name": "python3"
  },
  "language_info": {
   "codemirror_mode": {
    "name": "ipython",
    "version": 3
   },
   "file_extension": ".py",
   "mimetype": "text/x-python",
   "name": "python",
   "nbconvert_exporter": "python",
   "pygments_lexer": "ipython3",
   "version": "3.5.2"
  }
 },
 "nbformat": 4,
 "nbformat_minor": 2
}
