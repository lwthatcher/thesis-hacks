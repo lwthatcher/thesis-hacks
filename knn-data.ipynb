{
 "cells": [
  {
   "cell_type": "code",
   "execution_count": 16,
   "metadata": {
    "scrolled": true
   },
   "outputs": [
    {
     "name": "stdout",
     "output_type": "stream",
     "text": [
      "k=30 time: 0.1028132438659668\n",
      "graph (4506, 4506) float64\n"
     ]
    },
    {
     "data": {
      "image/png": "[encoded data removed]",
      "text/plain": [
       "<Figure size 288x288 with 1 Axes>"
      ]
     },
     "metadata": {},
     "output_type": "display_data"
    }
   ],
   "source": [
    "# --------------------------------------------------\n",
    "#\n",
    "# KNN Connectivity --- k = 30\n",
    "#\n",
    "# --------------------------------------------------\n",
    "# %matplotlib tk\n",
    "%matplotlib inline\n",
    "\n",
    "import time\n",
    "import numpy as np\n",
    "import matplotlib.pyplot as plt\n",
    "from sklearn.neighbors import kneighbors_graph\n",
    "\n",
    "FILE = 'data/pills-s0.npy'\n",
    "k = 30\n",
    "\n",
    "\n",
    "X = np.load(FILE)\n",
    "\n",
    "t0 = time.time()\n",
    "knn_graph = kneighbors_graph(X, k, include_self=False)\n",
    "elapsed_time = time.time() - t0\n",
    "\n",
    "\n",
    "graph = knn_graph.toarray()\n",
    "print('k={} time: {}'.format(k, elapsed_time))\n",
    "print('graph', graph.shape, graph.dtype)\n",
    "\n",
    "\n",
    "plt.matshow(graph)\n",
    "plt.show()"
   ]
  },
  {
   "cell_type": "code",
   "execution_count": 8,
   "metadata": {},
   "outputs": [
    {
     "name": "stdout",
     "output_type": "stream",
     "text": [
      "k=30 time: 0.10344576835632324\n",
      "graph (4506, 4506) float64\n"
     ]
    },
    {
     "data": {
      "image/png": "[encoded data removed]",
      "text/plain": [
       "<Figure size 288x288 with 2 Axes>"
      ]
     },
     "metadata": {},
     "output_type": "display_data"
    }
   ],
   "source": [
    "# --------------------------------------------------\n",
    "#\n",
    "# KNN Distance --- k = 30\n",
    "#\n",
    "# --------------------------------------------------\n",
    "# %matplotlib tk\n",
    "%matplotlib inline\n",
    "\n",
    "import time\n",
    "import numpy as np\n",
    "import matplotlib.pyplot as plt\n",
    "import matplotlib.colors as colors\n",
    "from sklearn.neighbors import kneighbors_graph\n",
    "\n",
    "FILE = 'data/pills-s0.npy'\n",
    "k = 30\n",
    "\n",
    "\n",
    "X = np.load(FILE)\n",
    "\n",
    "t0 = time.time()\n",
    "knn_graph = kneighbors_graph(X, k, mode='distance', include_self=False)\n",
    "elapsed_time = time.time() - t0\n",
    "\n",
    "\n",
    "graph = knn_graph.toarray()\n",
    "print('k={} time: {}'.format(k, elapsed_time))\n",
    "print('graph', graph.shape, graph.dtype)\n",
    "\n",
    "plt.matshow(graph, cmap='rainbow', norm=colors.LogNorm())\n",
    "plt.colorbar()\n",
    "plt.show()"
   ]
  },
  {
   "cell_type": "code",
   "execution_count": 12,
   "metadata": {},
   "outputs": [
    {
     "name": "stdout",
     "output_type": "stream",
     "text": [
      "k=10 time: 0.06993722915649414\n",
      "graph (4506, 4506) float64\n"
     ]
    },
    {
     "data": {
      "image/png": "[encoded data removed]",
      "text/plain": [
       "<Figure size 288x288 with 1 Axes>"
      ]
     },
     "metadata": {},
     "output_type": "display_data"
    }
   ],
   "source": [
    "# --------------------------------------------------\n",
    "#\n",
    "# KNN Connectivity --- k = 10\n",
    "#\n",
    "# --------------------------------------------------\n",
    "# %matplotlib tk\n",
    "%matplotlib inline\n",
    "\n",
    "import time\n",
    "import numpy as np\n",
    "import matplotlib.pyplot as plt\n",
    "from sklearn.neighbors import kneighbors_graph\n",
    "\n",
    "FILE = 'data/pills-s0.npy'\n",
    "k = 10\n",
    "\n",
    "\n",
    "X = np.load(FILE)\n",
    "\n",
    "t0 = time.time()\n",
    "knn_graph = kneighbors_graph(X, k, include_self=False)\n",
    "elapsed_time = time.time() - t0\n",
    "\n",
    "\n",
    "graph = knn_graph.toarray()\n",
    "print('k={} time: {}'.format(k, elapsed_time))\n",
    "print('graph', graph.shape, graph.dtype)\n",
    "\n",
    "\n",
    "plt.matshow(graph)\n",
    "plt.show()"
   ]
  },
  {
   "cell_type": "code",
   "execution_count": 14,
   "metadata": {},
   "outputs": [
    {
     "name": "stdout",
     "output_type": "stream",
     "text": [
      "k=100 time: 0.19568634033203125\n",
      "graph (4506, 4506) float64\n"
     ]
    },
    {
     "data": {
      "image/png": "[encoded data removed]",
      "text/plain": [
       "<Figure size 288x288 with 1 Axes>"
      ]
     },
     "metadata": {},
     "output_type": "display_data"
    }
   ],
   "source": [
    "# --------------------------------------------------\n",
    "#\n",
    "# KNN Connectivity --- k = 100\n",
    "#\n",
    "# --------------------------------------------------\n",
    "# %matplotlib tk\n",
    "%matplotlib inline\n",
    "\n",
    "import time\n",
    "import numpy as np\n",
    "import matplotlib.pyplot as plt\n",
    "from sklearn.neighbors import kneighbors_graph\n",
    "\n",
    "FILE = 'data/pills-s0.npy'\n",
    "k = 100\n",
    "\n",
    "\n",
    "X = np.load(FILE)\n",
    "\n",
    "t0 = time.time()\n",
    "knn_graph = kneighbors_graph(X, k, include_self=False)\n",
    "elapsed_time = time.time() - t0\n",
    "\n",
    "\n",
    "graph = knn_graph.toarray()\n",
    "print('k={} time: {}'.format(k, elapsed_time))\n",
    "print('graph', graph.shape, graph.dtype)\n",
    "\n",
    "\n",
    "plt.matshow(graph)\n",
    "plt.show()"
   ]
  },
  {
   "cell_type": "code",
   "execution_count": null,
   "metadata": {},
   "outputs": [],
   "source": []
  }
 ],
 "metadata": {
  "kernelspec": {
   "display_name": "Python 3",
   "language": "python",
   "name": "python3"
  },
  "language_info": {
   "codemirror_mode": {
    "name": "ipython",
    "version": 3
   },
   "file_extension": ".py",
   "mimetype": "text/x-python",
   "name": "python",
   "nbconvert_exporter": "python",
   "pygments_lexer": "ipython3",
   "version": "3.6.3"
  }
 },
 "nbformat": 4,
 "nbformat_minor": 2
}
