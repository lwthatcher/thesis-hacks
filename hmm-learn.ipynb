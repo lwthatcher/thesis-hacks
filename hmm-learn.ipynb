{
 "cells": [
  {
   "cell_type": "code",
   "execution_count": 15,
   "metadata": {},
   "outputs": [
    {
     "name": "stdout",
     "output_type": "stream",
     "text": [
      "TRAINING MODEL: N=5, covar=full, iters=100\n"
     ]
    },
    {
     "name": "stderr",
     "output_type": "stream",
     "text": [
      "/usr/local/lib/python3.5/dist-packages/hmmlearn/base.py:459: RuntimeWarning: divide by zero encountered in log\n",
      "  np.log(self.startprob_),\n",
      "/usr/local/lib/python3.5/dist-packages/hmmlearn/base.py:460: RuntimeWarning: divide by zero encountered in log\n",
      "  np.log(self.transmat_),\n",
      "/usr/local/lib/python3.5/dist-packages/hmmlearn/base.py:468: RuntimeWarning: divide by zero encountered in log\n",
      "  np.log(self.startprob_),\n",
      "/usr/local/lib/python3.5/dist-packages/hmmlearn/base.py:469: RuntimeWarning: divide by zero encountered in log\n",
      "  np.log(self.transmat_),\n",
      "/usr/local/lib/python3.5/dist-packages/hmmlearn/base.py:624: RuntimeWarning: divide by zero encountered in log\n",
      "  np.log(self.transmat_),\n"
     ]
    },
    {
     "name": "stdout",
     "output_type": "stream",
     "text": [
      "DONE TRAINING, PREDICTING OUTPUT\n",
      "DONE PREDICTING: 169\n",
      "[(0, 281, 2), (281, 338, 1), (338, 344, 4), (344, 346, 1), (346, 348, 4), (348, 351, 0), (351, 353, 4), (353, 421, 0), (421, 422, 4), (422, 423, 0), (423, 424, 4), (424, 426, 0), (426, 431, 4), (431, 443, 3), (443, 469, 1), (469, 484, 4), (484, 485, 1), (485, 487, 4), (487, 493, 3), (493, 500, 4), (500, 529, 3), (529, 552, 4), (552, 559, 1), (559, 573, 4), (573, 576, 1), (576, 608, 4), (608, 630, 1), (630, 632, 4), (632, 634, 3), (634, 636, 1), (636, 640, 4), (640, 642, 0), (642, 644, 4), (644, 829, 0), (829, 830, 4), (830, 843, 3), (843, 852, 1), (852, 855, 4), (855, 860, 1), (860, 865, 4), (865, 874, 1), (874, 886, 4), (886, 887, 3), (887, 899, 4), (899, 907, 3), (907, 909, 4), (909, 950, 3), (950, 980, 4), (980, 984, 1), (984, 993, 4), (993, 996, 3), (996, 999, 4), (999, 1007, 1), (1007, 1011, 4), (1011, 1013, 1), (1013, 1030, 4), (1030, 1055, 1), (1055, 1058, 4), (1058, 1295, 0), (1295, 1296, 4), (1296, 1345, 0), (1345, 1349, 3), (1349, 1352, 4), (1352, 1358, 0), (1358, 1360, 4), (1360, 1363, 1), (1363, 1372, 3), (1372, 1398, 1), (1398, 1414, 4), (1414, 1458, 3), (1458, 1494, 4), (1494, 1500, 1), (1500, 1520, 4), (1520, 1525, 1), (1525, 1542, 4), (1542, 1543, 3), (1543, 1552, 4), (1552, 1570, 1), (1570, 1577, 4), (1577, 1578, 3), (1578, 1583, 4), (1583, 1874, 0), (1874, 1875, 4), (1875, 1876, 1), (1876, 1877, 4), (1877, 1891, 3), (1891, 1919, 1), (1919, 1942, 4), (1942, 1949, 3), (1949, 1957, 4), (1957, 2008, 3), (2008, 2017, 1), (2017, 2057, 4), (2057, 2061, 1), (2061, 2070, 4), (2070, 2072, 3), (2072, 2082, 4), (2082, 2087, 1), (2087, 2128, 4), (2128, 2147, 1), (2147, 2154, 4), (2154, 2156, 1), (2156, 2164, 4), (2164, 2559, 0), (2559, 2563, 4), (2563, 2577, 3), (2577, 2614, 1), (2614, 2622, 4), (2622, 2625, 1), (2625, 2629, 4), (2629, 2639, 1), (2639, 2647, 3), (2647, 2653, 4), (2653, 2654, 3), (2654, 2658, 4), (2658, 2689, 3), (2689, 2733, 4), (2733, 2738, 1), (2738, 2763, 4), (2763, 2768, 1), (2768, 2799, 4), (2799, 2818, 1), (2818, 2838, 4), (2838, 3272, 0), (3272, 3274, 4), (3274, 3290, 3), (3290, 3324, 1), (3324, 3340, 4), (3340, 3348, 3), (3348, 3354, 4), (3354, 3400, 3), (3400, 3444, 4), (3444, 3449, 1), (3449, 3465, 4), (3465, 3468, 1), (3468, 3475, 4), (3475, 3476, 1), (3476, 3510, 4), (3510, 3533, 1), (3533, 3538, 4), (3538, 3539, 3), (3539, 3544, 4), (3544, 3970, 0), (3970, 3972, 4), (3972, 3984, 3), (3984, 4018, 1), (4018, 4020, 4), (4020, 4021, 1), (4021, 4036, 4), (4036, 4040, 1), (4040, 4098, 3), (4098, 4122, 4), (4122, 4128, 1), (4128, 4158, 4), (4158, 4159, 1), (4159, 4204, 4), (4204, 4229, 1), (4229, 4234, 4), (4234, 4235, 3), (4235, 4238, 4), (4238, 4332, 0), (4332, 4338, 4), (4338, 4357, 3), (4357, 4371, 1), (4371, 4388, 2), (4388, 4389, 1), (4389, 4412, 2), (4412, 4414, 1), (4414, 4505, 2)]\n",
      "plots {(0, 281, 2): <matplotlib.patches.Polygon object at 0x7fbd678f5978>, (338, 344, 4): <matplotlib.patches.Polygon object at 0x7fbd679030b8>, (344, 346, 1): <matplotlib.patches.Polygon object at 0x7fbd678f5f28>, (346, 348, 4): <matplotlib.patches.Polygon object at 0x7fbd678f5c50>, (281, 338, 1): <matplotlib.patches.Polygon object at 0x7fbd678fcda0>}\n",
      "event_labels {0: 0, 1: 1, 2: 2, 3: 3, 4: 4}\n"
     ]
    },
    {
     "name": "stderr",
     "output_type": "stream",
     "text": [
      "/usr/local/lib/python3.5/dist-packages/hmmlearn/base.py:451: RuntimeWarning: divide by zero encountered in log\n",
      "  n_samples, n_components, np.log(self.startprob_),\n",
      "/usr/local/lib/python3.5/dist-packages/hmmlearn/base.py:452: RuntimeWarning: divide by zero encountered in log\n",
      "  np.log(self.transmat_), framelogprob)\n"
     ]
    },
    {
     "ename": "KeyError",
     "evalue": "0",
     "output_type": "error",
     "traceback": [
      "\u001b[0;31m---------------------------------------------------------------------------\u001b[0m",
      "\u001b[0;31mKeyError\u001b[0m                                  Traceback (most recent call last)",
      "\u001b[0;32m<ipython-input-15-74f2b9a5e076>\u001b[0m in \u001b[0;36m<module>\u001b[0;34m()\u001b[0m\n\u001b[1;32m     54\u001b[0m \u001b[0mprint\u001b[0m\u001b[0;34m(\u001b[0m\u001b[0;34m'plots'\u001b[0m\u001b[0;34m,\u001b[0m \u001b[0mplots\u001b[0m\u001b[0;34m)\u001b[0m\u001b[0;34m\u001b[0m\u001b[0m\n\u001b[1;32m     55\u001b[0m \u001b[0mprint\u001b[0m\u001b[0;34m(\u001b[0m\u001b[0;34m'event_labels'\u001b[0m\u001b[0;34m,\u001b[0m \u001b[0mevent_labels\u001b[0m\u001b[0;34m)\u001b[0m\u001b[0;34m\u001b[0m\u001b[0m\n\u001b[0;32m---> 56\u001b[0;31m \u001b[0mlegs\u001b[0m \u001b[0;34m=\u001b[0m \u001b[0;34m[\u001b[0m\u001b[0mplots\u001b[0m\u001b[0;34m[\u001b[0m\u001b[0mevent_labels\u001b[0m\u001b[0;34m[\u001b[0m\u001b[0mi\u001b[0m\u001b[0;34m]\u001b[0m\u001b[0;34m]\u001b[0m \u001b[0;32mfor\u001b[0m \u001b[0mi\u001b[0m \u001b[0;32min\u001b[0m \u001b[0msorted\u001b[0m\u001b[0;34m(\u001b[0m\u001b[0mevent_labels\u001b[0m\u001b[0;34m)\u001b[0m\u001b[0;34m]\u001b[0m\u001b[0;34m\u001b[0m\u001b[0m\n\u001b[0m\u001b[1;32m     57\u001b[0m \u001b[0mnms\u001b[0m \u001b[0;34m=\u001b[0m \u001b[0;34m[\u001b[0m\u001b[0mevent_labels\u001b[0m\u001b[0;34m[\u001b[0m\u001b[0mi\u001b[0m\u001b[0;34m]\u001b[0m \u001b[0;32mfor\u001b[0m \u001b[0mi\u001b[0m \u001b[0;32min\u001b[0m \u001b[0msorted\u001b[0m\u001b[0;34m(\u001b[0m\u001b[0mevent_labels\u001b[0m\u001b[0;34m)\u001b[0m\u001b[0;34m]\u001b[0m\u001b[0;34m\u001b[0m\u001b[0m\n\u001b[1;32m     58\u001b[0m \u001b[0mplt\u001b[0m\u001b[0;34m.\u001b[0m\u001b[0mlegend\u001b[0m\u001b[0;34m(\u001b[0m\u001b[0mlegs\u001b[0m\u001b[0;34m,\u001b[0m \u001b[0mnms\u001b[0m\u001b[0;34m)\u001b[0m\u001b[0;34m\u001b[0m\u001b[0m\n",
      "\u001b[0;32m<ipython-input-15-74f2b9a5e076>\u001b[0m in \u001b[0;36m<listcomp>\u001b[0;34m(.0)\u001b[0m\n\u001b[1;32m     54\u001b[0m \u001b[0mprint\u001b[0m\u001b[0;34m(\u001b[0m\u001b[0;34m'plots'\u001b[0m\u001b[0;34m,\u001b[0m \u001b[0mplots\u001b[0m\u001b[0;34m)\u001b[0m\u001b[0;34m\u001b[0m\u001b[0m\n\u001b[1;32m     55\u001b[0m \u001b[0mprint\u001b[0m\u001b[0;34m(\u001b[0m\u001b[0;34m'event_labels'\u001b[0m\u001b[0;34m,\u001b[0m \u001b[0mevent_labels\u001b[0m\u001b[0;34m)\u001b[0m\u001b[0;34m\u001b[0m\u001b[0m\n\u001b[0;32m---> 56\u001b[0;31m \u001b[0mlegs\u001b[0m \u001b[0;34m=\u001b[0m \u001b[0;34m[\u001b[0m\u001b[0mplots\u001b[0m\u001b[0;34m[\u001b[0m\u001b[0mevent_labels\u001b[0m\u001b[0;34m[\u001b[0m\u001b[0mi\u001b[0m\u001b[0;34m]\u001b[0m\u001b[0;34m]\u001b[0m \u001b[0;32mfor\u001b[0m \u001b[0mi\u001b[0m \u001b[0;32min\u001b[0m \u001b[0msorted\u001b[0m\u001b[0;34m(\u001b[0m\u001b[0mevent_labels\u001b[0m\u001b[0;34m)\u001b[0m\u001b[0;34m]\u001b[0m\u001b[0;34m\u001b[0m\u001b[0m\n\u001b[0m\u001b[1;32m     57\u001b[0m \u001b[0mnms\u001b[0m \u001b[0;34m=\u001b[0m \u001b[0;34m[\u001b[0m\u001b[0mevent_labels\u001b[0m\u001b[0;34m[\u001b[0m\u001b[0mi\u001b[0m\u001b[0;34m]\u001b[0m \u001b[0;32mfor\u001b[0m \u001b[0mi\u001b[0m \u001b[0;32min\u001b[0m \u001b[0msorted\u001b[0m\u001b[0;34m(\u001b[0m\u001b[0mevent_labels\u001b[0m\u001b[0;34m)\u001b[0m\u001b[0;34m]\u001b[0m\u001b[0;34m\u001b[0m\u001b[0m\n\u001b[1;32m     58\u001b[0m \u001b[0mplt\u001b[0m\u001b[0;34m.\u001b[0m\u001b[0mlegend\u001b[0m\u001b[0;34m(\u001b[0m\u001b[0mlegs\u001b[0m\u001b[0;34m,\u001b[0m \u001b[0mnms\u001b[0m\u001b[0;34m)\u001b[0m\u001b[0;34m\u001b[0m\u001b[0m\n",
      "\u001b[0;31mKeyError\u001b[0m: 0"
     ]
    }
   ],
   "source": [
    "%matplotlib tk\n",
    "\n",
    "from hmmlearn import hmm\n",
    "import numpy as np\n",
    "import matplotlib.pyplot as plt\n",
    "\n",
    "\n",
    "def boundaries(v):\n",
    "    bounds = [0] + list(np.where(v[:-1] != v[1:])[0] + 1) + [len(v)-1]\n",
    "    return [(bounds[i], bounds[i+1], v[bounds[i]]) for i in range(len(bounds)-1)]\n",
    "\n",
    "def to_range(l, cmap):\n",
    "    total = cmap.N\n",
    "    idx = int((l[-1] / N) * total)\n",
    "    return cmap(idx)\n",
    "\n",
    "FILE = 'data/pills-s0.npy'\n",
    "\n",
    "# PARAMETERS\n",
    "N = 5\n",
    "covariance_type = 'full'\n",
    "iters = 100\n",
    "\n",
    "\n",
    "# TRAIN MODEL\n",
    "X = np.load(FILE)\n",
    "model = hmm.GaussianHMM(n_components=N, covariance_type=covariance_type, n_iter=iters)\n",
    "# train\n",
    "print('TRAINING MODEL: N={}, covar={}, iters={}'.format(N, covariance_type, iters))\n",
    "model.fit(X)\n",
    "# retrieve hidden states\n",
    "print('DONE TRAINING, PREDICTING OUTPUT')\n",
    "Z = model.predict(X)\n",
    "Zb = boundaries(Z)\n",
    "print('DONE PREDICTING:', len(Zb))\n",
    "print(Zb)\n",
    "\n",
    "# PLOTTING\n",
    "fig, ax = plt.subplots()\n",
    "# plot signals\n",
    "ax.plot(X[:,:-3], alpha=.7)\n",
    "ax.set_ylabel('gyroscope')\n",
    "ax.set_xlabel('time (milliseconds)')\n",
    "ax.set_ylim(-5000, 5000)\n",
    "# plot labels\n",
    "_cmap = plt.get_cmap('jet')\n",
    "plots = {}\n",
    "for l in Zb:\n",
    "    ev = Zb[l[-1]]\n",
    "    i = plt.axvspan(l[0], l[1], color=to_range(l, _cmap), alpha=0.5, label=ev)\n",
    "    plots[ev] = i\n",
    "# legend\n",
    "event_labels = {i:i for i in range(N)}\n",
    "print('plots', plots)\n",
    "print('event_labels', event_labels)\n",
    "legs = [plots[event_labels[i]] for i in sorted(event_labels)]\n",
    "nms = [event_labels[i] for i in sorted(event_labels)]\n",
    "plt.legend(legs, nms)\n",
    "# draw\n",
    "plt.show()"
   ]
  },
  {
   "cell_type": "code",
   "execution_count": null,
   "metadata": {
    "collapsed": true
   },
   "outputs": [],
   "source": []
  }
 ],
 "metadata": {
  "kernelspec": {
   "display_name": "Python 3",
   "language": "python",
   "name": "python3"
  },
  "language_info": {
   "codemirror_mode": {
    "name": "ipython",
    "version": 3
   },
   "file_extension": ".py",
   "mimetype": "text/x-python",
   "name": "python",
   "nbconvert_exporter": "python",
   "pygments_lexer": "ipython3",
   "version": "3.5.2"
  }
 },
 "nbformat": 4,
 "nbformat_minor": 2
}
