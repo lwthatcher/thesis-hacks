{
 "cells": [
  {
   "cell_type": "code",
   "execution_count": 6,
   "metadata": {},
   "outputs": [
    {
     "name": "stdout",
     "output_type": "stream",
     "text": [
      "TRAINING MODEL: N=5, covar=full, iters=100\n"
     ]
    },
    {
     "name": "stderr",
     "output_type": "stream",
     "text": [
      "/usr/local/lib/python3.5/dist-packages/hmmlearn/base.py:459: RuntimeWarning: divide by zero encountered in log\n",
      "  np.log(self.startprob_),\n",
      "/usr/local/lib/python3.5/dist-packages/hmmlearn/base.py:460: RuntimeWarning: divide by zero encountered in log\n",
      "  np.log(self.transmat_),\n",
      "/usr/local/lib/python3.5/dist-packages/hmmlearn/base.py:468: RuntimeWarning: divide by zero encountered in log\n",
      "  np.log(self.startprob_),\n",
      "/usr/local/lib/python3.5/dist-packages/hmmlearn/base.py:469: RuntimeWarning: divide by zero encountered in log\n",
      "  np.log(self.transmat_),\n",
      "/usr/local/lib/python3.5/dist-packages/hmmlearn/base.py:624: RuntimeWarning: divide by zero encountered in log\n",
      "  np.log(self.transmat_),\n"
     ]
    },
    {
     "name": "stdout",
     "output_type": "stream",
     "text": [
      "DONE TRAINING, PREDICTING OUTPUT\n",
      "DONE PREDICTING: 169\n",
      "[(0, 281, 2), (281, 338, 3), (338, 344, 4), (344, 346, 3), (346, 348, 4), (348, 351, 0), (351, 353, 4), (353, 421, 0), (421, 422, 4), (422, 423, 0), (423, 424, 4), (424, 426, 0), (426, 431, 4), (431, 443, 1), (443, 469, 3), (469, 484, 4), (484, 485, 3), (485, 487, 4), (487, 493, 1), (493, 500, 4), (500, 529, 1), (529, 552, 4), (552, 559, 3), (559, 573, 4), (573, 576, 3), (576, 608, 4), (608, 630, 3), (630, 632, 4), (632, 634, 1), (634, 636, 3), (636, 640, 4), (640, 642, 0), (642, 644, 4), (644, 829, 0), (829, 830, 4), (830, 843, 1), (843, 852, 3), (852, 855, 4), (855, 860, 3), (860, 865, 4), (865, 874, 3), (874, 886, 4), (886, 887, 1), (887, 899, 4), (899, 907, 1), (907, 909, 4), (909, 950, 1), (950, 980, 4), (980, 984, 3), (984, 993, 4), (993, 996, 1), (996, 999, 4), (999, 1007, 3), (1007, 1011, 4), (1011, 1013, 3), (1013, 1030, 4), (1030, 1055, 3), (1055, 1058, 4), (1058, 1295, 0), (1295, 1296, 4), (1296, 1345, 0), (1345, 1349, 1), (1349, 1352, 4), (1352, 1358, 0), (1358, 1360, 4), (1360, 1363, 3), (1363, 1372, 1), (1372, 1398, 3), (1398, 1414, 4), (1414, 1458, 1), (1458, 1494, 4), (1494, 1500, 3), (1500, 1520, 4), (1520, 1525, 3), (1525, 1542, 4), (1542, 1543, 1), (1543, 1552, 4), (1552, 1570, 3), (1570, 1577, 4), (1577, 1578, 1), (1578, 1583, 4), (1583, 1874, 0), (1874, 1875, 4), (1875, 1876, 3), (1876, 1877, 4), (1877, 1891, 1), (1891, 1919, 3), (1919, 1942, 4), (1942, 1949, 1), (1949, 1957, 4), (1957, 2008, 1), (2008, 2017, 3), (2017, 2057, 4), (2057, 2061, 3), (2061, 2070, 4), (2070, 2072, 1), (2072, 2082, 4), (2082, 2087, 3), (2087, 2128, 4), (2128, 2147, 3), (2147, 2154, 4), (2154, 2156, 3), (2156, 2164, 4), (2164, 2559, 0), (2559, 2563, 4), (2563, 2577, 1), (2577, 2614, 3), (2614, 2622, 4), (2622, 2625, 3), (2625, 2629, 4), (2629, 2639, 3), (2639, 2647, 1), (2647, 2653, 4), (2653, 2654, 1), (2654, 2658, 4), (2658, 2689, 1), (2689, 2733, 4), (2733, 2738, 3), (2738, 2763, 4), (2763, 2768, 3), (2768, 2799, 4), (2799, 2818, 3), (2818, 2838, 4), (2838, 3272, 0), (3272, 3274, 4), (3274, 3290, 1), (3290, 3324, 3), (3324, 3340, 4), (3340, 3348, 1), (3348, 3354, 4), (3354, 3400, 1), (3400, 3444, 4), (3444, 3449, 3), (3449, 3465, 4), (3465, 3468, 3), (3468, 3475, 4), (3475, 3476, 3), (3476, 3510, 4), (3510, 3533, 3), (3533, 3538, 4), (3538, 3539, 1), (3539, 3544, 4), (3544, 3970, 0), (3970, 3972, 4), (3972, 3984, 1), (3984, 4018, 3), (4018, 4020, 4), (4020, 4021, 3), (4021, 4036, 4), (4036, 4040, 3), (4040, 4098, 1), (4098, 4122, 4), (4122, 4128, 3), (4128, 4158, 4), (4158, 4159, 3), (4159, 4204, 4), (4204, 4229, 3), (4229, 4234, 4), (4234, 4235, 1), (4235, 4238, 4), (4238, 4332, 0), (4332, 4338, 4), (4338, 4357, 1), (4357, 4371, 3), (4371, 4388, 2), (4388, 4389, 3), (4389, 4412, 2), (4412, 4414, 3), (4414, 4505, 2)]\n"
     ]
    },
    {
     "name": "stderr",
     "output_type": "stream",
     "text": [
      "/usr/local/lib/python3.5/dist-packages/hmmlearn/base.py:451: RuntimeWarning: divide by zero encountered in log\n",
      "  n_samples, n_components, np.log(self.startprob_),\n",
      "/usr/local/lib/python3.5/dist-packages/hmmlearn/base.py:452: RuntimeWarning: divide by zero encountered in log\n",
      "  np.log(self.transmat_), framelogprob)\n"
     ]
    }
   ],
   "source": [
    "%matplotlib tk\n",
    "\n",
    "from hmmlearn import hmm\n",
    "import numpy as np\n",
    "import matplotlib.pyplot as plt\n",
    "\n",
    "def boundaries(v):\n",
    "    bounds = [0] + list(np.where(v[:-1] != v[1:])[0] + 1) + [len(v)-1]\n",
    "    return [(bounds[i], bounds[i+1], v[bounds[i]]) for i in range(len(bounds)-1)]\n",
    "\n",
    "FILE = 'data/pills-s0.npy'\n",
    "\n",
    "# params\n",
    "N = 5\n",
    "covariance_type = 'full'\n",
    "iters = 100\n",
    "# load data\n",
    "X = np.load(FILE)\n",
    "model = hmm.GaussianHMM(n_components=N, covariance_type=covariance_type, n_iter=iters)\n",
    "# train\n",
    "print('TRAINING MODEL: N={}, covar={}, iters={}'.format(N, covariance_type, iters))\n",
    "model.fit(X)\n",
    "# retrieve hidden states\n",
    "print('DONE TRAINING, PREDICTING OUTPUT')\n",
    "Z = model.predict(X)\n",
    "Zb = boundaries(Z)\n",
    "print('DONE PREDICTING:', len(Zb))\n",
    "print(Zb)\n",
    "\n",
    "# Plotting\n",
    "# fig, ax = plt.subplots()\n",
    "# ax.plot(X[:,:-3], alpha=.7)\n",
    "# ax.set_ylabel('gyroscope')\n",
    "# ax.set_xlabel('time (milliseconds)')\n",
    "# ax.set_ylim(-5000, 5000)\n",
    "# plt.show()"
   ]
  },
  {
   "cell_type": "code",
   "execution_count": null,
   "metadata": {
    "collapsed": true
   },
   "outputs": [],
   "source": []
  }
 ],
 "metadata": {
  "kernelspec": {
   "display_name": "Python 3",
   "language": "python",
   "name": "python3"
  },
  "language_info": {
   "codemirror_mode": {
    "name": "ipython",
    "version": 3
   },
   "file_extension": ".py",
   "mimetype": "text/x-python",
   "name": "python",
   "nbconvert_exporter": "python",
   "pygments_lexer": "ipython3",
   "version": "3.5.2"
  }
 },
 "nbformat": 4,
 "nbformat_minor": 2
}
