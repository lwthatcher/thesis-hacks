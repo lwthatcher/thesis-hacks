{
 "cells": [
  {
   "cell_type": "code",
   "execution_count": 18,
   "metadata": {},
   "outputs": [
    {
     "name": "stdout",
     "output_type": "stream",
     "text": [
      "TRAINING MODEL: N=5, covar=full, iters=100\n"
     ]
    },
    {
     "name": "stderr",
     "output_type": "stream",
     "text": [
      "/usr/local/lib/python3.5/dist-packages/hmmlearn/base.py:459: RuntimeWarning: divide by zero encountered in log\n",
      "  np.log(self.startprob_),\n",
      "/usr/local/lib/python3.5/dist-packages/hmmlearn/base.py:460: RuntimeWarning: divide by zero encountered in log\n",
      "  np.log(self.transmat_),\n",
      "/usr/local/lib/python3.5/dist-packages/hmmlearn/base.py:468: RuntimeWarning: divide by zero encountered in log\n",
      "  np.log(self.startprob_),\n",
      "/usr/local/lib/python3.5/dist-packages/hmmlearn/base.py:469: RuntimeWarning: divide by zero encountered in log\n",
      "  np.log(self.transmat_),\n",
      "/usr/local/lib/python3.5/dist-packages/hmmlearn/base.py:624: RuntimeWarning: divide by zero encountered in log\n",
      "  np.log(self.transmat_),\n"
     ]
    },
    {
     "name": "stdout",
     "output_type": "stream",
     "text": [
      "DONE TRAINING, PREDICTING OUTPUT\n",
      "DONE PREDICTING: 169\n",
      "plots {0: <matplotlib.patches.Polygon object at 0x7fbd67d28278>, 1: <matplotlib.patches.Polygon object at 0x7fbd67d28588>, 2: <matplotlib.patches.Polygon object at 0x7fbd67d28898>, 3: <matplotlib.patches.Polygon object at 0x7fbd67cf9b38>, 4: <matplotlib.patches.Polygon object at 0x7fbd67cf9828>}\n",
      "event_labels {0: 0, 1: 1, 2: 2, 3: 3, 4: 4}\n"
     ]
    },
    {
     "name": "stderr",
     "output_type": "stream",
     "text": [
      "/usr/local/lib/python3.5/dist-packages/hmmlearn/base.py:451: RuntimeWarning: divide by zero encountered in log\n",
      "  n_samples, n_components, np.log(self.startprob_),\n",
      "/usr/local/lib/python3.5/dist-packages/hmmlearn/base.py:452: RuntimeWarning: divide by zero encountered in log\n",
      "  np.log(self.transmat_), framelogprob)\n"
     ]
    }
   ],
   "source": [
    "%matplotlib tk\n",
    "\n",
    "from hmmlearn import hmm\n",
    "import numpy as np\n",
    "import matplotlib.pyplot as plt\n",
    "\n",
    "\n",
    "def boundaries(v):\n",
    "    bounds = [0] + list(np.where(v[:-1] != v[1:])[0] + 1) + [len(v)-1]\n",
    "    return [(bounds[i], bounds[i+1], v[bounds[i]]) for i in range(len(bounds)-1)]\n",
    "\n",
    "def to_range(l, cmap):\n",
    "    total = cmap.N\n",
    "    idx = int((l[-1] / N) * total)\n",
    "    return cmap(idx)\n",
    "\n",
    "FILE = 'data/pills-s0.npy'\n",
    "\n",
    "# PARAMETERS\n",
    "N = 6\n",
    "covariance_type = 'full'\n",
    "iters = 100\n",
    "\n",
    "\n",
    "# TRAIN MODEL\n",
    "X = np.load(FILE)\n",
    "model = hmm.GaussianHMM(n_components=N, covariance_type=covariance_type, n_iter=iters)\n",
    "# train\n",
    "print('TRAINING MODEL: N={}, covar={}, iters={}'.format(N, covariance_type, iters))\n",
    "model.fit(X)\n",
    "# retrieve hidden states\n",
    "print('DONE TRAINING, PREDICTING OUTPUT')\n",
    "Z = model.predict(X)\n",
    "Zb = boundaries(Z)\n",
    "print('DONE PREDICTING:', len(Zb))\n",
    "# print(Zb)\n",
    "\n",
    "# PLOTTING\n",
    "event_labels = {i:i for i in range(N)}\n",
    "fig, ax = plt.subplots()\n",
    "# plot signals\n",
    "ax.plot(X[:,:-3], alpha=.7)\n",
    "ax.set_ylabel('gyroscope')\n",
    "ax.set_xlabel('time (milliseconds)')\n",
    "ax.set_ylim(-5000, 5000)\n",
    "# plot labels\n",
    "_cmap = plt.get_cmap('jet')\n",
    "plots = {}\n",
    "for l in Zb:\n",
    "    ev = event_labels[l[-1]]\n",
    "    i = plt.axvspan(l[0], l[1], color=to_range(l, _cmap), alpha=0.5, label=ev)\n",
    "    plots[ev] = i\n",
    "# legend\n",
    "\n",
    "print('plots', plots)\n",
    "print('event_labels', event_labels)\n",
    "legs = [plots[event_labels[i]] for i in sorted(event_labels)]\n",
    "nms = [event_labels[i] for i in sorted(event_labels)]\n",
    "plt.legend(legs, nms)\n",
    "# draw\n",
    "plt.show()"
   ]
  },
  {
   "cell_type": "code",
   "execution_count": 3,
   "metadata": {
    "scrolled": false
   },
   "outputs": [
    {
     "name": "stdout",
     "output_type": "stream",
     "text": [
      "TRAINING MODEL: N=3, M=10, covar=diag, iters=100\n"
     ]
    },
    {
     "name": "stderr",
     "output_type": "stream",
     "text": [
      "/usr/local/lib/python3.5/dist-packages/hmmlearn/hmm.py:593: RuntimeWarning: divide by zero encountered in log\n",
      "  lgmm_posteriors = (np.log(g.predict_proba(X))\n",
      "/usr/local/lib/python3.5/dist-packages/hmmlearn/base.py:459: RuntimeWarning: divide by zero encountered in log\n",
      "  np.log(self.startprob_),\n",
      "/usr/local/lib/python3.5/dist-packages/hmmlearn/base.py:468: RuntimeWarning: divide by zero encountered in log\n",
      "  np.log(self.startprob_),\n",
      "/usr/local/lib/python3.5/dist-packages/hmmlearn/hmm.py:593: RuntimeWarning: divide by zero encountered in log\n",
      "  lgmm_posteriors = (np.log(g.predict_proba(X))\n",
      "/usr/local/lib/python3.5/dist-packages/hmmlearn/base.py:459: RuntimeWarning: divide by zero encountered in log\n",
      "  np.log(self.startprob_),\n",
      "/usr/local/lib/python3.5/dist-packages/hmmlearn/base.py:468: RuntimeWarning: divide by zero encountered in log\n",
      "  np.log(self.startprob_),\n"
     ]
    },
    {
     "name": "stdout",
     "output_type": "stream",
     "text": [
      "DONE TRAINING, PREDICTING OUTPUT\n",
      "DONE PREDICTING: 86 60\n",
      "plots {0: <matplotlib.patches.Polygon object at 0x7f4c3e3801d0>, 1: <matplotlib.patches.Polygon object at 0x7f4c3e380b00>, 2: <matplotlib.patches.Polygon object at 0x7f4c3e3807f0>}\n",
      "event_labels {0: 0, 1: 1, 2: 2}\n",
      "plots {0: <matplotlib.patches.Polygon object at 0x7f4c3e2df320>, 1: <matplotlib.patches.Polygon object at 0x7f4c3e2e55c0>, 2: <matplotlib.patches.Polygon object at 0x7f4c3e2e52b0>}\n",
      "event_labels {0: 0, 1: 1, 2: 2}\n"
     ]
    },
    {
     "name": "stderr",
     "output_type": "stream",
     "text": [
      "/usr/local/lib/python3.5/dist-packages/hmmlearn/base.py:451: RuntimeWarning: divide by zero encountered in log\n",
      "  n_samples, n_components, np.log(self.startprob_),\n"
     ]
    },
    {
     "data": {
      "image/png": "[encoded data removed]",
      "text/plain": [
       "<Figure size 432x288 with 2 Axes>"
      ]
     },
     "metadata": {},
     "output_type": "display_data"
    }
   ],
   "source": [
    "from hmmlearn import hmm\n",
    "import numpy as np\n",
    "import matplotlib.pyplot as plt\n",
    "\n",
    "\n",
    "def boundaries(v):\n",
    "    bounds = [0] + list(np.where(v[:-1] != v[1:])[0] + 1) + [len(v)-1]\n",
    "    return [(bounds[i], bounds[i+1], v[bounds[i]]) for i in range(len(bounds)-1)]\n",
    "\n",
    "def to_range(l, cmap):\n",
    "    total = cmap.N\n",
    "    idx = int((l[-1] / N) * total)\n",
    "    return cmap(idx)\n",
    "\n",
    "FILE = 'data/pills-s0.npy'\n",
    "FILE_2 = 'data/pills-s0_4.npy'\n",
    "\n",
    "# PARAMETERS\n",
    "N = 3\n",
    "M = 10\n",
    "covar = 'diag'\n",
    "iters = 100\n",
    "\n",
    "\n",
    "# TRAIN MODEL\n",
    "X = np.load(FILE)\n",
    "X2 = np.load(FILE_2)\n",
    "model = hmm.GMMHMM(N,M,covariance_type=covar, n_iter=iters)\n",
    "m2 = hmm.GMMHMM(N,M,covariance_type=covar, n_iter=iters)\n",
    "# train\n",
    "print('TRAINING MODEL: N={}, M={}, covar={}, iters={}'.format(N, M, covar, iters))\n",
    "model.fit(X)\n",
    "m2.fit(X2)\n",
    "# retrieve hidden states\n",
    "print('DONE TRAINING, PREDICTING OUTPUT')\n",
    "Z = model.predict(X)\n",
    "Z2 = model.predict(X2)\n",
    "Zb = boundaries(Z)\n",
    "Zb2 = boundaries(Z2)\n",
    "print('DONE PREDICTING:', len(Zb), len(Zb2))\n",
    "# print(Zb)\n",
    "\n",
    "# PLOTTING\n",
    "event_labels = {i:i for i in range(N)}\n",
    "fig = plt.figure()\n",
    "ax = fig.add_subplot(121)\n",
    "# plot signals\n",
    "ax.plot(X[:,:-3], alpha=.7)\n",
    "ax.set_ylabel('gyroscope')\n",
    "ax.set_xlabel('time (milliseconds)')\n",
    "ax.set_ylim(-5000, 5000)\n",
    "# plot labels\n",
    "_cmap = plt.get_cmap('nipy_spectral')\n",
    "plots = {}\n",
    "for l in Zb:\n",
    "    ev = event_labels[l[-1]]\n",
    "    i = plt.axvspan(l[0], l[1], color=to_range(l, _cmap), alpha=0.5, label=ev)\n",
    "    plots[ev] = i\n",
    "# legend\n",
    "print('plots', plots)\n",
    "print('event_labels', event_labels)\n",
    "legs = [plots[event_labels[i]] for i in sorted(event_labels)]\n",
    "nms = [event_labels[i] for i in sorted(event_labels)]\n",
    "plt.legend(legs, nms)\n",
    "\n",
    "\n",
    "\n",
    "ax = fig.add_subplot(122)\n",
    "# plot signals\n",
    "ax.plot(X2[:,:-3], alpha=.7)\n",
    "ax.set_ylabel('gyroscope')\n",
    "ax.set_xlabel('time (milliseconds)')\n",
    "ax.set_ylim(-5000, 5000)\n",
    "# plot labels\n",
    "_cmap = plt.get_cmap('nipy_spectral')\n",
    "plots = {}\n",
    "for l in Zb2:\n",
    "    ev = event_labels[l[-1]]\n",
    "    i = plt.axvspan(l[0], l[1], color=to_range(l, _cmap), alpha=0.5, label=ev)\n",
    "    plots[ev] = i\n",
    "# legend\n",
    "print('plots', plots)\n",
    "print('event_labels', event_labels)\n",
    "legs = [plots[event_labels[i]] for i in sorted(event_labels)]\n",
    "nms = [event_labels[i] for i in sorted(event_labels)]\n",
    "plt.legend(legs, nms)\n",
    "\n",
    "\n",
    "\n",
    "\n",
    "\n",
    "\n",
    "# draw\n",
    "plt.show()"
   ]
  },
  {
   "cell_type": "code",
   "execution_count": null,
   "metadata": {
    "collapsed": true
   },
   "outputs": [],
   "source": []
  }
 ],
 "metadata": {
  "kernelspec": {
   "display_name": "Python 3",
   "language": "python",
   "name": "python3"
  },
  "language_info": {
   "codemirror_mode": {
    "name": "ipython",
    "version": 3
   },
   "file_extension": ".py",
   "mimetype": "text/x-python",
   "name": "python",
   "nbconvert_exporter": "python",
   "pygments_lexer": "ipython3",
   "version": "3.5.2"
  }
 },
 "nbformat": 4,
 "nbformat_minor": 2
}
