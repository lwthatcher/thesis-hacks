{
 "cells": [
  {
   "cell_type": "code",
   "execution_count": 35,
   "metadata": {},
   "outputs": [
    {
     "name": "stdout",
     "output_type": "stream",
     "text": [
      "{1: 'pills', 2: 'move'}\n",
      "[1, 2]\n",
      "[(1, 'pills'), (2, 'move')]\n"
     ]
    }
   ],
   "source": [
    "%matplotlib gtk3\n",
    "\n",
    "import numpy as np\n",
    "import matplotlib.pyplot as plt\n",
    "\n",
    "INFERRED_LABELS_FILE = 'all_blue-orange.npy'\n",
    "TRUE_LABELS_FILE = 'orange-true.npy'\n",
    "\n",
    "inf = np.load(INFERRED_LABELS_FILE)[0,:,0]\n",
    "X = np.load(TRUE_LABELS_FILE)\n",
    "lbls = X[:,-1]\n",
    "\n",
    "def boundaries(v):\n",
    "    bounds = list(np.where(v[:-1] != v[1:])[0] + 1)\n",
    "    bounds.insert(0,0)\n",
    "    bounds.append(len(v)-1)\n",
    "    result = []\n",
    "    for i in range(len(bounds)-1):\n",
    "        result.append((bounds[i], bounds[i+1], v[bounds[i]]))\n",
    "    return result\n",
    "\n",
    "def discrete_cmap(N, base_cmap=None):\n",
    "    \"\"\"Create an N-bin discrete colormap from the specified input map\"\"\"\n",
    "\n",
    "    # Note that if base_cmap is a string or None, you can simply do\n",
    "    #    return plt.cm.get_cmap(base_cmap, N)\n",
    "    # The following works for string, None, or a colormap instance:\n",
    "\n",
    "    base = plt.cm.get_cmap(base_cmap)\n",
    "    color_list = base(np.linspace(0, 1, N))\n",
    "    cmap_name = base.name + str(N)\n",
    "    return base.from_list(cmap_name, color_list, N)\n",
    "\n",
    "N = 3\n",
    "\n",
    "def to_range(l, cmap):\n",
    "    total = cmap.N\n",
    "    idx = int((l[-1] / N) * total)\n",
    "    return cmap(idx)\n",
    "\n",
    "event_labels = {1: 'pills', 2: 'move'}\n",
    "\n",
    "label_bounds = boundaries(lbls)\n",
    "# _cmap = discrete_cmap(3, 'rainbow')\n",
    "_cmap = plt.get_cmap('jet')\n",
    "\n",
    "# plot signals\n",
    "plt.plot(X[:,:6])\n",
    "# plot labels\n",
    "plots = {}\n",
    "for l in label_bounds:\n",
    "    if l[-1] > 0:\n",
    "        ev = event_labels[l[-1]]\n",
    "        clr = _cmap(l[-1])\n",
    "        i = plt.axvspan(l[0], l[1], color=to_range(l, _cmap), alpha=0.5, label=ev)\n",
    "        plots[ev] = i    \n",
    "# legend\n",
    "legs = [plots[event_labels[i]] for i in sorted(event_labels)]\n",
    "nms = [event_labels[i] for i in sorted(event_labels)]\n",
    "plt.legend(legs, nms)\n",
    "# plt.legend()\n",
    "# draw\n",
    "plt.show()"
   ]
  },
  {
   "cell_type": "code",
   "execution_count": null,
   "metadata": {
    "collapsed": true
   },
   "outputs": [],
   "source": []
  },
  {
   "cell_type": "code",
   "execution_count": null,
   "metadata": {
    "collapsed": true
   },
   "outputs": [],
   "source": []
  }
 ],
 "metadata": {
  "kernelspec": {
   "display_name": "Python 3",
   "language": "python",
   "name": "python3"
  },
  "language_info": {
   "codemirror_mode": {
    "name": "ipython",
    "version": 2
   },
   "file_extension": ".py",
   "mimetype": "text/x-python",
   "name": "python",
   "nbconvert_exporter": "python",
   "pygments_lexer": "ipython2",
   "version": "2.7.12"
  }
 },
 "nbformat": 4,
 "nbformat_minor": 2
}
