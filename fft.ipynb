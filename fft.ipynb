{
 "cells": [
  {
   "cell_type": "code",
   "execution_count": 3,
   "metadata": {},
   "outputs": [
    {
     "name": "stdout",
     "output_type": "stream",
     "text": [
      "(4506, 6)\n",
      "(4506, 6)\n"
     ]
    },
    {
     "data": {
      "image/png": "[encoded data removed]",
      "text/plain": [
       "<Figure size 432x288 with 1 Axes>"
      ]
     },
     "metadata": {},
     "output_type": "display_data"
    }
   ],
   "source": [
    "# --------------------------------------------------\n",
    "#\n",
    "# FFT over 'Pills' data\n",
    "#\n",
    "# --------------------------------------------------\n",
    "%matplotlib inline\n",
    "\n",
    "import numpy as np\n",
    "import matplotlib.pyplot as plt\n",
    "\n",
    "FILE = 'data/pills-s0.npy'\n",
    "x = np.load(FILE)\n",
    "print(x.shape)\n",
    "\n",
    "xf = np.fft.fft(x, axis=0)\n",
    "print(xf.real.shape)\n",
    "\n",
    "plt.plot(xf.real)\n",
    "plt.show()"
   ]
  },
  {
   "cell_type": "code",
   "execution_count": 12,
   "metadata": {},
   "outputs": [
    {
     "name": "stdout",
     "output_type": "stream",
     "text": [
      "(50, 6)\n"
     ]
    }
   ],
   "source": [
    "# --------------------------------------------------\n",
    "#\n",
    "# FFT over a discrete chunk of the data\n",
    "#\n",
    "# --------------------------------------------------\n",
    "%matplotlib tk\n",
    "\n",
    "\n",
    "\n",
    "\n",
    "\n",
    "import numpy as np\n",
    "import matplotlib.pyplot as plt\n",
    "\n",
    "FILE = 'data/pills-s0.npy'\n",
    "x = np.load(FILE)\n",
    "\n",
    "xf = np.fft.fft(x[2250:2300, :], axis=0)\n",
    "print(xf.real.shape)\n",
    "\n",
    "plt.plot(xf.real)\n",
    "plt.show()"
   ]
  },
  {
   "cell_type": "code",
   "execution_count": 27,
   "metadata": {},
   "outputs": [
    {
     "name": "stdout",
     "output_type": "stream",
     "text": [
      "(4506, 6)\n",
      "(4506, 6)\n",
      "colors [(0.0, 0.0, 0.5, 1.0), (0.0, 0.1588235294117647, 1.0, 1.0), (0.0, 0.8333333333333334, 1.0, 1.0), (0.4901960784313725, 1.0, 0.4775458570524984, 1.0), (1.0, 0.9012345679012348, 0.0, 1.0), (1.0, 0.27668845315904156, 0.0, 1.0)]\n"
     ]
    }
   ],
   "source": [
    "# --------------------------------------------------\n",
    "#\n",
    "# Scatter-Plot representation of the FFT\n",
    "#\n",
    "# --------------------------------------------------\n",
    "%matplotlib tk\n",
    "\n",
    "import numpy as np\n",
    "import matplotlib.pyplot as plt\n",
    "\n",
    "FILE = 'data/pills-s0.npy'\n",
    "x = np.load(FILE)\n",
    "\n",
    "xf = np.fft.fft(x, axis=0)\n",
    "print(xf.real.shape)\n",
    "print(xf.imag.shape)\n",
    "\n",
    "N = xf.shape[1]\n",
    "cmap = plt.get_cmap('jet')\n",
    "colors = [cmap(int((i/N)*cmap.N)) for i in range(N)]\n",
    "print('colors', colors)\n",
    "\n",
    "fig = plt.figure()\n",
    "ax1 = plt.subplot(1,2,1)\n",
    "s1 = ax1.scatter(xf.real, xf.imag, c=colors)\n",
    "\n",
    "\n",
    "ax2 = plt.subplot(1,2,2, projection='polar')\n",
    "ax2.scatter(xf.real, xf.imag, c=colors)\n",
    "\n",
    "plt.show()"
   ]
  },
  {
   "cell_type": "code",
   "execution_count": 26,
   "metadata": {},
   "outputs": [
    {
     "name": "stdout",
     "output_type": "stream",
     "text": [
      "(4506, 6)\n",
      "(4506, 6)\n",
      "(4506, 6)\n"
     ]
    }
   ],
   "source": [
    "# --------------------------------------------------\n",
    "#\n",
    "# Normalized Scatter-Plot representation of the FFT\n",
    "#\n",
    "# --------------------------------------------------\n",
    "%matplotlib tk\n",
    "\n",
    "import numpy as np\n",
    "import matplotlib.pyplot as plt\n",
    "from sklearn.preprocessing import normalize\n",
    "\n",
    "FILE = 'data/pills-s0.npy'\n",
    "x = np.load(FILE)\n",
    "x = normalize(x)\n",
    "print(x.shape)\n",
    "\n",
    "\n",
    "xf = np.fft.fft(x, axis=0)\n",
    "print(xf.real.shape)\n",
    "print(xf.imag.shape)\n",
    "\n",
    "N = xf.shape[1]\n",
    "cmap = plt.get_cmap('jet')\n",
    "colors = [cmap(int((i/N)*cmap.N)) for i in range(N)]\n",
    "lbls = ['Ax', 'Ay', 'Az', 'Gx', 'Gy', 'Gz']\n",
    "\n",
    "fig = plt.figure()\n",
    "ax1 = plt.subplot(1,2,1)\n",
    "for i in range(N):\n",
    "    ax1.scatter(xf.real[:,i], xf.imag[:,i], c=colors[i], label=lbls[i], alpha=.3)\n",
    "ax1.legend()\n",
    "\n",
    "\n",
    "ax2 = plt.subplot(1,2,2, projection='polar')\n",
    "ax2.scatter(xf.real, xf.imag, c=colors)\n",
    "\n",
    "plt.show()"
   ]
  },
  {
   "cell_type": "code",
   "execution_count": null,
   "metadata": {},
   "outputs": [],
   "source": []
  }
 ],
 "metadata": {
  "kernelspec": {
   "display_name": "Python 3",
   "language": "python",
   "name": "python3"
  },
  "language_info": {
   "codemirror_mode": {
    "name": "ipython",
    "version": 3
   },
   "file_extension": ".py",
   "mimetype": "text/x-python",
   "name": "python",
   "nbconvert_exporter": "python",
   "pygments_lexer": "ipython3",
   "version": "3.6.3"
  }
 },
 "nbformat": 4,
 "nbformat_minor": 2
}
